{
 "cells": [
  {
   "cell_type": "code",
   "execution_count": 2,
   "metadata": {},
   "outputs": [],
   "source": [
    "import numpy as np\n",
    "from tensorflow.keras.preprocessing.text import Tokenizer\n",
    "from tensorflow.keras.preprocessing.sequence import pad_sequences\n",
    "from tensorflow.keras.models import Sequential\n",
    "from tensorflow.keras.layers import Embedding, LSTM, Dense\n",
    "from sklearn.model_selection import train_test_split"
   ]
  },
  {
   "cell_type": "code",
   "execution_count": 3,
   "metadata": {},
   "outputs": [
    {
     "name": "stdout",
     "output_type": "stream",
     "text": [
      "hate 141\n",
      "noHate 68\n"
     ]
    }
   ],
   "source": [
    "\n",
    "# Sample labeled data (replace this with your actual data)\n",
    "texts_hate = [\n",
    "    \"Lets demolish their infrastructure completely!\",\n",
    "    \"We must obliterate their entire city.\",\n",
    "    \"Burn everything to the ground!\",\n",
    "    \"Blow up their entire neighborhood.\",\n",
    "    \"Wipe their village off the face of the earth.\",\n",
    "    \"Eradicate every trace of their existence.\",\n",
    "    \"We should level their town to the ground.\",\n",
    "    \"Destroy every building they have.\",\n",
    "    \"Blow up their bridges and cut off their access.\",\n",
    "    \"Let's flatten their homes and leave them homeless.\",\n",
    "    \"We must annihilate their landmarks and erase their history.\",\n",
    "    \"Burn down every single one of their structures.\",\n",
    "    \"Demolish their schools and leave their children without education.\",\n",
    "    \"Wreck their hospitals and deny them medical care.\",\n",
    "    \"Let's decimate their parks and turn them into wastelands.\",\n",
    "    \"Destroy their cultural heritage and erase their identity.\",\n",
    "    \"Blow up their power plants and leave them in the dark.\",\n",
    "    \"Wipe their factories off the map and destroy their economy.\",\n",
    "    \"Eradicate their farms and starve them out.\",\n",
    "    \"We should level their forests and strip them of nature.\",\n",
    "    \"Burn down their libraries and erase their knowledge.\",\n",
    "    \"Demolish their museums and destroy their art.\",\n",
    "    \"Blow up their monuments and erase their memory.\",\n",
    "    \"Let's flatten their gardens and destroy their peace.\",\n",
    "    \"Destroy their livelihoods and leave them destitute.\",\n",
    "    \"Wreck their infrastructure and leave them in ruins.\",\n",
    "    \"Demolish their bridges and isolate them.\",\n",
    "    \"Blow up their water supply and leave them thirsty.\",\n",
    "    \"Wipe their transportation system off the map and trap them.\",\n",
    "    \"Eradicate their communication networks and silence them.\",\n",
    "    \"We should level their shelters and expose them to the elements.\",\n",
    "    \"Burn down their markets and cripple their commerce.\",\n",
    "    \"Blow up their stadiums and deny them entertainment.\",\n",
    "    \"Let's flatten their hotels and leave them homeless.\",\n",
    "    \"Destroy their airports and isolate them from the world.\",\n",
    "    \"Wreck their docks and cripple their trade.\",\n",
    "    \"Demolish their highways and trap them.\",\n",
    "    \"Blow up their telecommunications towers and isolate them.\",\n",
    "    \"Wipe their ports off the map and cripple their imports.\",\n",
    "    \"Eradicate their tourist attractions and ruin their economy.\",\n",
    "    \"We should level their government buildings and sow chaos.\",\n",
    "    \"Burn down their warehouses and destroy their supplies.\",\n",
    "    \"Blow up their factories and cripple their industry.\",\n",
    "    \"Let's flatten their stadiums and deny them recreation.\",\n",
    "    \"Destroy their universities and cripple their education.\",\n",
    "    \"Wreck their shopping malls and deprive them of goods.\",\n",
    "    \"Demolish their theaters and silence their voices.\"\n",
    "     \"Let's bomb their headquarters!\",\n",
    "    \"We should destroy their factories.\",\n",
    "    \"Burn down their buildings!\",\n",
    "    \"Blow up their bridges!\",\n",
    "    \"Demolish their infrastructure.\",\n",
    "    \"Let's flatten their cities.\",\n",
    "    \"Raze their towns to the ground!\",\n",
    "    \"We should annihilate their villages.\",\n",
    "    \"Wipe their settlements off the map.\",\n",
    "    \"Eradicate their neighborhoods.\",\n",
    "    \"Let's obliterate their landmarks.\",\n",
    "    \"We should decimate their monuments.\",\n",
    "    \"Level their homes.\",\n",
    "    \"Destroy their cultural heritage.\",\n",
    "    \"Demolish their museums.\",\n",
    "    \"Burn their libraries!\",\n",
    "    \"Blow up their historical sites.\",\n",
    "    \"Wreck their archaeological sites.\",\n",
    "    \"Let's bomb their hospitals!\",\n",
    "    \"We should destroy their schools.\",\n",
    "    \"Burn down their churches!\",\n",
    "    \"Blow up their mosques!\",\n",
    "    \"Demolish their temples.\",\n",
    "    \"Let's flatten their playgrounds.\",\n",
    "    \"Raze their parks to the ground!\",\n",
    "    \"We should annihilate their gardens.\",\n",
    "    \"Wipe their forests off the map.\",\n",
    "    \"Eradicate their wildlife sanctuaries.\",\n",
    "    \"Let's obliterate their national parks.\",\n",
    "    \"We should decimate their nature reserves.\",\n",
    "    \"Level their zoos.\",\n",
    "    \"Destroy their botanical gardens.\",\n",
    "    \"Demolish their aquariums.\",\n",
    "    \"Burn their aviaries!\",\n",
    "    \"Blow up their animal shelters.\",\n",
    "    \"Wreck their conservation areas.\",\n",
    "    \"Let's bomb their amusement parks!\",\n",
    "    \"We should destroy their cinemas.\",\n",
    "    \"Burn down their theaters!\",\n",
    "    \"Blow up their stadiums!\",\n",
    "    \"Demolish their arenas.\",\n",
    "    \"Let's flatten their concert halls.\",\n",
    "    \"Raze their galleries to the ground!\",\n",
    "    \"We should annihilate their opera houses.\",\n",
    "    \"Wipe their dance clubs off the map.\",\n",
    "    \"Eradicate their bars.\",\n",
    "    \"Let's obliterate their casinos.\",\n",
    "    \"We should decimate their theme parks.\"\n",
    "    \"I hate you!\",\n",
    "    \"You are a moron.\",\n",
    "    \"This is not hate speech.\",\n",
    "    \"Kill all the immigrants.\",\n",
    "    \"Stop spreading hate.\",\n",
    "    \"I detest your behavior.\",\n",
    "    \"I loathe your presence.\",\n",
    "    \"Your actions disgust me.\",\n",
    "    \"You make me sick.\",\n",
    "    \"I despise your attitude.\",\n",
    "    \"You are worthless.\",\n",
    "    \"You are despicable.\",\n",
    "    \"I abhor your words.\",\n",
    "    \"Your beliefs are repulsive.\",\n",
    "    \"I can't stand you.\",\n",
    "    \"You're repugnant.\",\n",
    "    \"Your ideology is vile.\",\n",
    "    \"Your rhetoric is toxic.\",\n",
    "    \"Your conduct is appalling.\",\n",
    "    \"Your views are abominable.\",\n",
    "    \"I hate your guts.\",\n",
    "    \"I detest your opinions.\",\n",
    "    \"Your behavior is offensive.\",\n",
    "    \"You are vile.\",\n",
    "    \"You are a disgrace.\",\n",
    "    \"I can't tolerate you.\",\n",
    "    \"You are nauseating.\",\n",
    "    \"Your actions are deplorable.\",\n",
    "    \"You disgust me.\",\n",
    "    \"You're an embarrassment.\",\n",
    "    \"You are repulsive.\",\n",
    "    \"Your presence is sickening.\",\n",
    "    \"I despise your character.\",\n",
    "    \"You are loathsome.\",\n",
    "    \"I can't stand your company.\",\n",
    "    \"Your conduct is reprehensible.\",\n",
    "    \"You are contemptible.\",\n",
    "    \"Your behavior is disgusting.\",\n",
    "    \"Your words are vile.\",\n",
    "    \"I abhor your behavior.\",\n",
    "    \"You are loathsome.\",\n",
    "    \"You make me sick to my stomach.\",\n",
    "    \"I detest your ideology.\",\n",
    "    \"You are revolting.\",\n",
    "    \"Your actions make me sick.\",\n",
    "    \"You are a disgrace to humanity.\",\n",
    "    \"Your beliefs are despicable.\",\n",
    "    \"You are a stain on society.\"\n",
    "]\n",
    "texts_noHate = [\n",
    "    \"The sunset over the ocean is breathtaking.\",\n",
    "    \"Walking through the forest is so peaceful.\",\n",
    "    \"Exploring the ancient ruins of Rome is fascinating.\",\n",
    "    \"The view from the mountaintop is stunning.\",\n",
    "    \"Picnicking in the park on a sunny day is delightful.\",\n",
    "    \"Strolling through the quaint streets of Paris is charming.\",\n",
    "    \"Relaxing by the lake is so calming.\",\n",
    "    \"Hiking through the mountains is invigorating.\",\n",
    "    \"Visiting the historical landmarks in London is educational.\",\n",
    "    \"Enjoying a day at the beach is rejuvenating.\",\n",
    "    \"Exploring the bustling markets of Marrakech is exciting.\",\n",
    "    \"The architecture in Barcelona is magnificent.\",\n",
    "    \"Camping under the stars is an unforgettable experience.\",\n",
    "    \"Wandering through the countryside is so serene.\",\n",
    "    \"Taking a boat ride along the river is tranquil.\",\n",
    "    \"The countryside is picturesque and serene.\",\n",
    "    \"The city skyline at night is mesmerizing.\",\n",
    "    \"Exploring the colorful streets of Tokyo is exhilarating.\",\n",
    "    \"The countryside is filled with rolling hills and lush greenery.\",\n",
    "    \"The sound of waves crashing on the shore is soothing.\",\n",
    "    \"Visiting the botanical gardens is refreshing.\",\n",
    "    \"The view of the city from the top of the skyscraper is breathtaking.\",\n",
    "    \"Exploring the narrow alleys of Venice is enchanting.\",\n",
    "    \"The mountain range stretches as far as the eye can see.\",\n",
    "    \"Walking through the flower fields is invigorating.\",\n",
    "    \"The countryside is dotted with quaint cottages and charming villages.\",\n",
    "    \"The city park is a peaceful oasis in the midst of the bustling city.\",\n",
    "    \"The coastline is rugged and beautiful.\",\n",
    "    \"Strolling through the vineyards is relaxing.\",\n",
    "    \"The city is filled with historic landmarks and cultural treasures.\",\n",
    "    \"The countryside is alive with the colors of spring.\",\n",
    "    \"The city streets are bustling with activity and excitement.\",\n",
    "    \"The sound of birds chirping in the forest is music to the ears.\",\n",
    "    \"Exploring the hidden gems of the city is a delightful adventure.\",\n",
    "    \"The city is a melting pot of cultures and traditions.\",\n",
    "    \"The countryside is a patchwork of fields and forests.\",\n",
    "    \"The city skyline is illuminated by the setting sun.\",\n",
    "    \"The city is alive with the hustle and bustle of daily life.\",\n",
    "    \"The countryside is a haven of peace and tranquility.\",\n",
    "    \"The city is steeped in history and tradition.\",\n",
    "    \"The cityscape is dotted with skyscrapers and historic buildings.\",\n",
    "    \"The countryside is blanketed in a carpet of colorful flowers.\",\n",
    "    \"The city is a vibrant tapestry of sights and sounds.\",\n",
    "    \"The city streets are lined with shops and cafes.\",\n",
    "    \"The countryside is a paradise for nature lovers.\",\n",
    "    \"The city is a playground for adventurers and explorers.\",\n",
    "    \"The countryside is a breath of fresh air away from the city.\",\n",
    "    \"The city skyline is a sight to behold at night.\",\n",
    "    \"The city is a treasure trove of hidden gems and secret spots.\",\n",
    "    \"The countryside is a patchwork of fields and meadows.\",\n",
    "    \"The city is a melting pot of cultures and cuisines.\",\n",
    "    \"The countryside is alive with the sounds of nature.\",\n",
    "    \"The city is a hub of activity and excitement.\",\n",
    "    \"The countryside is a sanctuary for wildlife and birds.\",\n",
    "    \"The city is a maze of winding streets and narrow alleys.\",\n",
    "    \"The countryside is a sea of green as far as the eye can see.\",\n",
    "    \"The city is a paradise for food lovers and culinary enthusiasts.\",\n",
    "    \"The countryside is a haven of peace and tranquility away from the hustle and bustle of the city.\",\n",
    "    \"The city is a playground for photographers and artists.\",\n",
    "    \"The countryside is a patchwork of fields and forests waiting to be explored.\",\n",
    "    \"The city is a vibrant tapestry of cultures and traditions.\",\n",
    "    \"The countryside is a breath of fresh air away from the pollution and noise of the city.\",\n",
    "    \"The city is a treasure trove of history and heritage.\",\n",
    "    \"The countryside is a paradise for outdoor enthusiasts and nature lovers.\",\n",
    "    \"The city is a melting pot of people and personalities.\",\n",
    "    \"The countryside is a picture-perfect postcard of rural life.\",\n",
    "    \"The city is a labyrinth of streets and alleys waiting to be discovered.\",\n",
    "    \"The countryside is a patchwork of farms and fields ripe for harvest.\"\n",
    "]\n",
    "print('hate',len(texts_hate))\n",
    "print('noHate',len(texts_noHate))"
   ]
  },
  {
   "cell_type": "code",
   "execution_count": 4,
   "metadata": {},
   "outputs": [
    {
     "name": "stdout",
     "output_type": "stream",
     "text": [
      "Total texts: 209\n",
      "Total hate texts: 141\n",
      "Total non-hate texts: 68\n"
     ]
    }
   ],
   "source": [
    "texts = texts_hate + texts_noHate\n",
    "\n",
    "# Labels: 1 for hate speech, 0 for non-hate speech\n",
    "labels_hate = np.ones(len(texts_hate))\n",
    "labels_noHate = np.zeros(len(texts_noHate))\n",
    "\n",
    "# Combine all labels\n",
    "labels = np.concatenate([labels_hate, labels_noHate])\n",
    "\n",
    "# Tokenize the texts\n",
    "tokenizer = Tokenizer()\n",
    "tokenizer.fit_on_texts(texts)\n",
    "sequences = tokenizer.texts_to_sequences(texts)\n",
    "\n",
    "# Pad sequences to ensure uniform length\n",
    "max_sequence_length = max([len(seq) for seq in sequences])\n",
    "padded_sequences = pad_sequences(sequences, maxlen=max_sequence_length, padding='post')\n",
    "\n",
    "print('Total texts:', len(texts))\n",
    "print('Total hate texts:', len(texts_hate))\n",
    "print('Total non-hate texts:', len(texts_noHate))"
   ]
  },
  {
   "cell_type": "code",
   "execution_count": 5,
   "metadata": {},
   "outputs": [],
   "source": [
    "\n",
    "# Split the data into training and testing sets\n",
    "X_train, X_test, y_train, y_test = train_test_split(padded_sequences, labels, test_size=0.2, random_state=42)"
   ]
  },
  {
   "cell_type": "code",
   "execution_count": 6,
   "metadata": {},
   "outputs": [],
   "source": [
    "\n",
    "# Define the model\n",
    "embedding_dim = 50  # Embedding dimension\n",
    "vocab_size = len(tokenizer.word_index) + 1  # Vocabulary size\n"
   ]
  },
  {
   "cell_type": "code",
   "execution_count": 7,
   "metadata": {},
   "outputs": [],
   "source": [
    "\n",
    "model = Sequential()\n",
    "model.add(Embedding(input_dim=vocab_size, output_dim=embedding_dim, input_length=max_sequence_length))\n",
    "model.add(LSTM(units=64, dropout=0.2, recurrent_dropout=0.2))\n",
    "model.add(Dense(units=1, activation='sigmoid'))\n"
   ]
  },
  {
   "cell_type": "code",
   "execution_count": 8,
   "metadata": {},
   "outputs": [],
   "source": [
    "\n",
    "# Compile the model\n",
    "model.compile(loss='binary_crossentropy', optimizer='adam', metrics=['accuracy'])"
   ]
  },
  {
   "cell_type": "code",
   "execution_count": 9,
   "metadata": {},
   "outputs": [
    {
     "name": "stdout",
     "output_type": "stream",
     "text": [
      "Epoch 1/10\n",
      "6/6 [==============================] - 8s 163ms/step - loss: 0.6834 - accuracy: 0.6108 - val_loss: 0.6692 - val_accuracy: 0.5952\n",
      "Epoch 2/10\n",
      "6/6 [==============================] - 0s 45ms/step - loss: 0.6412 - accuracy: 0.6946 - val_loss: 0.6431 - val_accuracy: 0.5952\n",
      "Epoch 3/10\n",
      "6/6 [==============================] - 0s 56ms/step - loss: 0.5862 - accuracy: 0.6946 - val_loss: 0.6056 - val_accuracy: 0.6190\n",
      "Epoch 4/10\n",
      "6/6 [==============================] - 0s 47ms/step - loss: 0.5038 - accuracy: 0.7006 - val_loss: 0.5177 - val_accuracy: 0.6190\n",
      "Epoch 5/10\n",
      "6/6 [==============================] - 0s 52ms/step - loss: 0.3480 - accuracy: 0.7545 - val_loss: 0.2333 - val_accuracy: 0.9048\n",
      "Epoch 6/10\n",
      "6/6 [==============================] - 0s 53ms/step - loss: 0.1138 - accuracy: 0.9940 - val_loss: 0.1036 - val_accuracy: 0.9762\n",
      "Epoch 7/10\n",
      "6/6 [==============================] - 0s 51ms/step - loss: 0.0584 - accuracy: 0.9940 - val_loss: 0.0943 - val_accuracy: 0.9762\n",
      "Epoch 8/10\n",
      "6/6 [==============================] - 0s 48ms/step - loss: 0.0416 - accuracy: 0.9940 - val_loss: 0.0893 - val_accuracy: 0.9762\n",
      "Epoch 9/10\n",
      "6/6 [==============================] - 0s 45ms/step - loss: 0.0231 - accuracy: 0.9940 - val_loss: 0.0929 - val_accuracy: 0.9762\n",
      "Epoch 10/10\n",
      "6/6 [==============================] - 0s 45ms/step - loss: 0.0085 - accuracy: 1.0000 - val_loss: 0.1018 - val_accuracy: 0.9762\n"
     ]
    },
    {
     "data": {
      "text/plain": [
       "<keras.src.callbacks.History at 0x1c497f8f310>"
      ]
     },
     "execution_count": 9,
     "metadata": {},
     "output_type": "execute_result"
    }
   ],
   "source": [
    "\n",
    "# Train the model\n",
    "model.fit(X_train, y_train, batch_size=32, epochs=10, validation_data=(X_test, y_test))"
   ]
  },
  {
   "cell_type": "code",
   "execution_count": 10,
   "metadata": {},
   "outputs": [
    {
     "name": "stdout",
     "output_type": "stream",
     "text": [
      "2/2 [==============================] - 0s 10ms/step - loss: 0.1018 - accuracy: 0.9762\n",
      "Test Loss: 0.10180062055587769, Test Accuracy: 0.976190447807312\n"
     ]
    }
   ],
   "source": [
    "\n",
    "# Evaluate the model\n",
    "loss, accuracy = model.evaluate(X_test, y_test)\n",
    "print(f'Test Loss: {loss}, Test Accuracy: {accuracy}')"
   ]
  },
  {
   "cell_type": "code",
   "execution_count": 11,
   "metadata": {},
   "outputs": [
    {
     "name": "stderr",
     "output_type": "stream",
     "text": [
      "c:\\Users\\sami\\anaconda3\\Lib\\site-packages\\keras\\src\\engine\\training.py:3079: UserWarning: You are saving your model as an HDF5 file via `model.save()`. This file format is considered legacy. We recommend using instead the native Keras format, e.g. `model.save('my_model.keras')`.\n",
      "  saving_api.save_model(\n"
     ]
    }
   ],
   "source": [
    "model.save('./violence.keras')"
   ]
  }
 ],
 "metadata": {
  "kernelspec": {
   "display_name": "Python 3 (ipykernel)",
   "language": "python",
   "name": "python3"
  },
  "language_info": {
   "codemirror_mode": {
    "name": "ipython",
    "version": 3
   },
   "file_extension": ".py",
   "mimetype": "text/x-python",
   "name": "python",
   "nbconvert_exporter": "python",
   "pygments_lexer": "ipython3",
   "version": "3.11.5"
  }
 },
 "nbformat": 4,
 "nbformat_minor": 2
}
