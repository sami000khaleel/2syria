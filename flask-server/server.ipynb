{
 "cells": [
  {
   "cell_type": "code",
   "execution_count": 2,
   "metadata": {},
   "outputs": [
    {
     "name": "stdout",
     "output_type": "stream",
     "text": [
      "1/1 [==============================] - 2s 2s/step\n",
      "1/1 [==============================] - 0s 218ms/step\n",
      "[['AWU5eFhMp2_qiQ0vBa5WSfSVN-q6zkqzUJqUKOsuf0sVXcchLS_LUbd1bXgyuqkbUoA03QC5lO_vRsGSIcPvYs-n9VquHYvPO2RZX8qq8RoelblRD2tqgyv-E7K6VPMrsY7p8WluI7a6RmRWtf8BCoPW2zm19P6zkUkOtBJFV5YBsXxwqaSF.jpg', 0.99999994], ['AWU5eFgruMSYk48A1bAi6QqA-SRivsIgvKjfJPrFO42hv16xmCWAOLPyugtEY2prqecNmoOgT0c8buz1YupZoqfPWWsILf8RpaRoQQTOwcVPIBAiCBWSjnkGrEUV5UgKRBMFy0LkD1dWXAolWZojtKhxHBFyyi999Dqg1lYmPZqMgoiXMiwR.jpg', 0.6988811], ['AWU5eFgaxkEttoX7re7ubyA8KAQyJLutS0ZRcZ9TqT3CVORWNh1ey7P91zB49d0AKUqaOz2p_1ti-VwV4ZBK5_3Ik11JAxTG1aGk1wJqdNPOtjdXWLc-Y4p_075U1hNBOBl7iQZ8goMh504eNlojkH1gSBSqomVPJPMewH1hHnjewDsdlmU-.jpg', 0.68496263], ['AWU5eFg-k5HRiOim9Awyv67NUjEB5FzliaoifnaRgxTsxBDjwRcILSB-QmQ0WSqt5vuJeMRqcf-jZKGwY2CEdA4O-P9O2Vv1B-OZhJ0SiiLyeiKu-AWD_-dgXXqZq_fJ6fyr7beQy7k3tdcvWIvm59tdRCEYK7EXcjoZCMPlqwUgEMFCScnv.jpg', 0.66473424], ['AWU5eFhRYMjAxY1X_uBE3EMe3ugLmpfNb7hfkXTr8fRiVyhZAcOa4j-zQQUjE_ayPxguMexFCQkO5pjA5uEuf7EcMY4vQV8ArDSd3KBeNuzYB2LLx2FSyqloeBcLCBEx913rLXFvdyaGecothnDFjyUvxXUR61F33RFbW7KTxsaUToW-wQCQ.jpg', 0.65545225], ['AWU5eFil27vRrWU_dm5RGSC9oVb8LexGX-iuRbMCvHcBeXJN4hTge0h4l6_VUeeoDEmZEJFV56kgytOOCvt-6ptQCUSiJS2CWJZ7Pe8yAZGJsgFK-MSgbsBuf23409uzocB_UC5mpdYMKXm-WxZvUg5E7TCMPx_nN72SxhS5Ml-VNzk52TZm.jpg', 0.64180064], ['AWU5eFj0juhuu-r5rTDNC4gbjnibl2VzKczferwgVNhLMsCg0GlhhTSb9T7xLgmkT7PkcLhl8dCC32wXUl050Kyjs5EjwDlXIXDcgj3rSZMLx00ZuB2t3C8nEQNnDYoOC7RogI4aVfOyzd2EkM1sBKH9i-YJvmzi3lfWg2ytdRGZPOOYskt-.jpg', 0.6372791], ['AWU5eFj-hif-ujPc5NGUjpjVrcokiUhMco-vFbS_GuzVLSFsRRyF1hAFEtgGV3X_VqPPwEMEVkv-PzpgZD2MTYConNSY9IpSbb-pkAISZf-oLu0QXa0cQDV48IaYtN95Zi_XI1Ml1I8DJw4LNmz4m9v0q8QLKylzykVqrqbESHYGeFr-aPh7.jpg', 0.6317234], ['AWU5eFixYgY1witZ6D_i1ESQ9a6XjaamoLQ3UeQXBkxULypfEaqRf8Z_NrAgNv-InpVpTlNjH0dqiNVQsLgYcZPZpaWTz9E0o7o0Qe-itB0PJOrkamgDn0jvsRXaArNX0-qHH32v-GpvzH3DnVMJdgLgCFiCBdq8kes8r7BMj6rnKAuZNYEN.jpg', 0.6302125], ['AWU5eFjNPGtEy6s3P5uoB7PlBjB2IXX_naLKtRBsAUhhBC88fG52mdfvYLwAZtEihWUPpcxseBI1BC0iTSv-Y4CtGwiuTUzyx5xonC-z8KHDlH41wbWoJF4VVwDN3HVTchaTEj6ivFVi35zIfjK9u5SXsvtJfNOre0MxzAmjkmwbN_KWp8tg.jpg', 0.6197137], ['AWU5eFiMR0z0IiFm--bxdUEz7C4E1-Ee9sGMuYEipp6MX02lPj4GmIiISTNC4buftqMp-u0OX4ppKRyCcW9KAiBWuspfcQDeMafveurnzFtRca2p7m86nm--XH4Ak558-ixE792XEoLw3o0VQOym0d4t0mDbR_BrrxVQFy3KFgmfNg1b9csr.jpg', 0.61785036], ['AWU5eFiaJsrXnf1joVH3Cu8LP-VSV3INjU7vIolNueGwB-iEJN7HdPag02yilrOXq7piR_57wo-hXNXTZ_Ho9LjnlPww7dXp0cZaDyqAFEKvZfwsXsxKXx4BNfkwytPi0eevuBWok5KeOCgdpRacOdNDM-qFUXgRn08SEAaDCW6AVTB_fRZ1.jpg', 0.61534566], ['AWU5eFgvNvz1nArYtmPVELPX5bz4RnhtW18qjvSaKDWNsV5WvUc2MUi-8Uk68u5mIR7k1K_5YHPl_usi1qxgIlpMNTq4fWG6eZvWc6Hjg8GR4KRL6LQT1RsglqxvmfQfY1SRNDd1LwDStxzNAhsr4i8C3ZsuC3whpaYJc79IR5EdQYGuv6o.jpg', 0.61242265], ['AWU5eFh36yKWKlfk1nYZu4vJF_6Do8BxcpOtEOAdlq5EcSEXkC-yRGXI93W5QAA5D9qQOp8yfVvRBXpuCiuQlG3Ct-HTwEMo58rjhaABjT4fVESfWING3GQeQCiSsl91LEeDRJRtq5JmuzQCYCt0-i31c_Lryp_-ZIcE-HWACbZd5C8eniqa.jpg', 0.6120159], ['AWU5eFh-SIPNmtjqZhlKEZYlUrk39gtuHUUDpoq7VI5i9lEsYmBQ2Z219_zD5H4e6bih-PeyVNR2i8w5ah4iaEHETHt0HNUw9NTZR0_x1vVfnEBc577ULkqE2WVdJa3bc-8OwRKIZb2eYGjVKIY2xr0ewNGMT56fLCnICI7Sdhck43bs2Sw.jpg', 0.6089296], ['AWU5eFikD2XEXmJLWMhsQ1y3Yx6Ez0Ux8ExnVpdcOo0T7yJsWXgO6-fwNP8h-phcE5lJvIP8NeCIcJYdKGnnWbI1qfawvLnj59CmzmvuNvmrs-YB4zdJS1-IgvYfjQKD1nMWxWFeKytPkxnmMS-kA9OeoayZfG46ko8CyANmwEv8CoIRwv-s.jpg', 0.60890687], ['AWU5eFjapgObyycXCo_aTYsWpgC9PiUKQY0VV3IEBZGUC1JUdbZScFAz9aN6B9WY2zW3NvkbUKotr2RmvrEoeEehI21XLJUh84SiHu8Bm6QtQuyIe1lcXuDuMo9XT9J6oeo7PQZEOoiHoD9tT_hzq4V7Ymz5kWBOBGI-2tazPr1A1TMNPNo4.jpg', 0.60625786], ['AWU5eFirKpff9N1LTZSyHoxidgHOn1W_0DJREH7S9AiERDCl9ptvlybOlbmTrHHxkW0VRM5VeDfStz3CIwUzoKSYBvzIOzBauICf-omXBlsjWPfCKWjsSGtwcuw8-wA3se4jsdgPDbicdWP383Pbno83FvVipc7S6U_ovXl2VbQiA31V0MKu.jpg', 0.60527635], ['AWU5eFg_8frVZwDkmWJF_xfHlJ_IsEPpWnczxU6i2n5cR4t_dhv7ZWfkZz2nIJw7yQ5hsdeofHXfvgVhmF0L5tIgfyAZb-kRrMtbVmjQ35a3c9setGoUoKWbCqMqqkxEz5B1a6QVA5btpXryHvBf7bG4nJ2NexnxPsX1y5m4vwhjTfI5e6Pp.jpg', 0.60412014], ['AWU5eFj4IYh-cvEoJLQNVr20kCN6c6pLFrUHo8ZthW2FYLuOzvkYQ2aaZOHVsrrYlWtCUJoxHU6KCZk3jg7IKJjVBxbHKr9Yp9Mxorq3ue32Wxh_5PbK13PLkHW_ife0XfsNu25uqYrpS0Pqe3sP6MXiQiWjObZHtuf_Qf8a5cGFBvTqnWPs.jpg', 0.60259104]]\n",
      " * Serving Flask app '__main__'\n",
      " * Debug mode: off\n"
     ]
    },
    {
     "name": "stderr",
     "output_type": "stream",
     "text": [
      "WARNING: This is a development server. Do not use it in a production deployment. Use a production WSGI server instead.\n",
      " * Running on http://127.0.0.1:5000\n",
      "Press CTRL+C to quit\n"
     ]
    },
    {
     "name": "stdout",
     "output_type": "stream",
     "text": [
      "1/1 [==============================] - 0s 306ms/step\n"
     ]
    },
    {
     "name": "stderr",
     "output_type": "stream",
     "text": [
      "127.0.0.1 - - [08/May/2024 11:12:32] \"POST /api/models/get-similarities HTTP/1.1\" 200 -\n"
     ]
    },
    {
     "name": "stdout",
     "output_type": "stream",
     "text": [
      "[['AWU5eFiMAfEQyiZ7kVMLwX5sAV82mB0ahivPejkCOSJAe4IJu6169P0K5NGT9ZzCIREDjCbGPFtoGR0Oc5lf5dLk_AQh4sdErrdut61tlh1srLBFdXZWsUjE5CuMCYFRzF60SiTvv7aVgPFlIFI9tfWz9szZP5GnBohHvJXZZsbAu9zkskG1.jpg', 0.9999999], ['AWU5eFhvvR-GC-K6mG8v17aMNCXxjrKHm_5ykGLgDroSZg6Ld5l0cLcytkcUQOeBYuNMMBcrwmdcnwrnMGn6NqXejh098EoEd0mBTAVt0Ydpudfej6oQkdAP47ELFcKfiKXKIGLPpz7E8O25rwwTm0hge5TFdEYgX5ZfwklpwQsdHdEtsFRX.jpg', 0.9999999], ['AWU5eFiyLyqUgyaIJBi6M9U1HZ-lh1GvMwK7g22_Qrrjj2aUI3ebC57ReOdYD_3d2OwLX3TodoAlCoEXZ_aVvLbeJN0BJa8s2kqokz8aDbANxL5W90jEKNkxTvZ5JxvabPKpyyFOgrfTfv1_Rc7cY54xPWUBqlKRRMosGzBo-h3AlOTYyzgx.jpg', 0.9999999], ['AWU5eFimJOCFAFeks9MqD6UpLk3tdbEkOKLfUJHWmLT-UzfaRXceXUbQkOPtdP2aCkGpuELYCvYrzDROdao5jVuYZbT4Z_vBqP52HtbBJsPuIHa3V0N8WYF_njOw6fTfzu8pe_div6POXqKSd1iN3zQpISFCcGBeLFZGa4QQ48yvFdQFGq5E.jpg', 0.7879027], ['AWU5eFhBu9r8NuU5otYQilBQo7XEl8jFOmro7dklWBqDZVZ_Px8_d26CP8oDuqmJFJXN9eedA5X9vvsmXqS6XaLPvXS8Z-8dKsC7tUrce7aGHKrN1MwUsNVGhldg9BFKrmMFimYLCO_px_m5TbmuDBk3zorC4iN-t-nzPe8zBw6Rf339kfls.jpg', 0.7879027], ['AWU5eFjdAHeVB9os5iSPU911OCjwnq2_m37CxDDpFZdT-gtkJV_LNXLJlkq7mkIqcwp49_ukdg_OgVczBBdfcGuO_fZzqyfu8-7Ch3nQxBbcKjl85q4GYD2Fpt-0gum6Ww8rhD6v4wgCQAFj8roa25FkJfl32aij3qMI83Y0GyGN0kvMU2t-.jpg', 0.7879027], ['AWU5eFivrNJkUAJ2Wjt2mjrclMKx1CiYX5EShLnBj7Q2pUC6TJ0fBZ05VjHhnlzvMD_ageWoFsE1xeInwSJpAQyQqKzpA60aqbJqlFx65avni7d80rii3ATa-0Kr_iJBAUXjW9n-MBo0rUBiOlXomNJZqssvqloln4vfAN-dpFkf57Kdhf4h.jpg', 0.7463231], ['AWU5eFghmflT-TzvuQ4XH638CYZ3ZjzAt-1YsQb5u2JNHyqv4fvj71IdwWG2uDe0KmsZHQiCZtmpGqbMPgTYKt_csOlmf5wHSGSFMj5jqIlmJy3LK86G37-jJ1aj0pJTyIu-YLTxr0rOE7InztC41rHEIs9Aamo8OiR0Q0lFKUZusWzX5MXM.jpg', 0.7463231], ['AWU5eFjcnfXO9DQvoqOWHSLoqOzgw_5mVD08Id3CvcOEnxhxFXNf4qYByxn_eUCg10RM7Wyeg-oiS3IBOV4BV8WIBF6MWueXu7GR5WzffUnJZZEL6lrmXnv5SZ5GZYGr2OSyuLI6DwgSJUX3C-6icBcD-pITI1xTuWMDodVySdBqIv24RHjG.jpg', 0.7463231], ['AWU5eFiVN-s3aq7jYGvK-m3K4swiSvkZYcghXU_icRalXacWlL2WsiSmFyaKBzpcdzfyB0ubw5GbxicG0DQrRXdsDR8hx9YZc48zwBLmwU2373P_0g3eqbSyQBfwKVrRwRCclled1vy4FEePWoYC52HxR09_x4Cop-O9DnykRIQLA5G48vCz.jpg', 0.7080871], ['AWU5eFgI6HanKMbJsNxwyLiT81XYlotIbMJyvIX7yTj26U9BrnApl-XgLZVS2dfl1wTyhG6IQsJY7kaBGdgwZMG68bb1Kz_A_fIFVwnJJ5n7YQ_ihlXAYUe_tJFxulNbkpNItXhtDj8le24DSE1io-7UX95J7bE7nP_KcX3AYANv7Ejy1KO-.jpg', 0.7080871], ['AWU5eFhdNsH1HZv3rA3-VW7-8hlVTnqD5Cx_POihrEIPZk06VzRSDEEwy1hTCgdrN1e3ONgbM03ACu3eG-Esv4Jg811jMnm9Epbo-FWKDyCFH6NwKAJofm7p2FLEmywdNHH8--oWnq7DBOcx_CQS5BX4OlgYykwtWTHwt6OeszeJhAPFiChC.jpg', 0.7080871], ['AWU5eFjeGj6yKA67esg_ajakuJ7CKM8eU-vIkaHnEHMFxoBeOsE4DRPsIi8712pSGNn3CnKeGcZdOHk0wp3ZuHfxrp2Cl70An5jRvYzr4asUs1aaVJ_J7WznuLFcCz_LzTcN4UpAys8zWARYWv7JTOIVbYsQnne-fTv1gK9hmDKIBTngU9Ff.jpg', 0.7075434], ['AWU5eFgj2Ip1zYS6qf-nTA5GJQplYZzqIthFHhKTND304dvUvffCxwXUBX63NyitwFfdSrwHgUu8djEMVedVEopmR8iLTzdxlIOItUOZUU8AsLdJm8kNV81jEXyJmbCbSDdTTgsQs0ke4Gf4MEFlB8woJJzrz8EHaVg7RptJlA5pyGqtKsRE.jpg', 0.6551405], ['AWU5eFiHdhiE1Wd_cJ89qzq2Ac5iNGnBIvhxYUm9s3tSEIq-74pcAxrZNn5jX7ZFRg3EsJC32ouQh1haIlHFaiTHUBQo3OYtEyOdyRfauXfDR6fc4bmk2X7lfx8E3OCtU4ayBC_3pRvBdacjPC9wLw6MCEQBnBPgCtHuQ2qCntKD5xhzUUnN.jpg', 0.6551405], ['AWU5eFgBkNCDwqQWZPZ4W3swkoO5Ubkxh-wqodWKQ0XBR-p0C6U6KMqDFlLiJL-pCQ-GB977o5Sz7HsSIvqcdd0x6ljQv6_nzO8emVQ_5quOUTuMrLAoFiJhEB8bz9MomFVt8e4UkO8pNov_po7DzLX0IJ9fvcoUhHfQTzliHHYQnW4GS47y.jpg', 0.6551405], ['AWU5eFgGXdxXRQrrG6Qqs021gu4W-KWIQRUmCUT85athBD22hLZP5Kb4HiZ7voiSdj_o8MpRnbubcN1rJQe0-7fmjENbCaSmTq7HiFj_17jGKoHfxNZEjzIBso2BYBTCNJuhKaMD3dbE4aHC0dk3xqT_xXSakmXku-79Jq6uyCgrVWEehRTW.jpg', 0.6551405], ['AWU5eFjrrtpg8VMCmJTLo6j0UamTJgFLMaPH2mWaeTMFJT5FBehu-hkRREzt2Ll1Sgy7y-h7uhQzK1BG52HzCYztua0ZXK5KIxC4eEj5v3mOvIhz_LcpXLKKG7mRaczxU7FRNdr7kAcq53DM59-s3rK0F-41f8NBBCGG0o6_qy93DfMUHi00.jpg', 0.63891995], ['AWU5eFi5GVitoZI_GQfLF06DnZoqdsuduJte6Uw7GATvwwBNVpMQD2EjpOXDuslgUgP74SBH9xh49BxdSWObSDXwubD1W66GVvb2tUrS0ChREZiODM5zgiJiv1neXkZ9lOWHoPMtKsaZjhM-wfisbOEIRKTP8to1hXnoEXwzM6yOhMoqEvcr.jpg', 0.63891995], ['AWU5eFjuoxeU9wohBCInLBEDAoc7fxbtNSHJ9M2CKWCzs3CQHLtpUntBVWbN9jwx4ALCIFnsYvhy_3Slk9G2BGln1w46HltYA1mkbuSBOAv4FQar-8B-R4s7p6Mk8hHH8qQ99Te0Kv--W9qBjeu0CvUlKRvwz_eUWViHpqqueDED59-V1DEY.jpg', 0.63891995]]\n",
      "[['AWU5eFiMAfEQyiZ7kVMLwX5sAV82mB0ahivPejkCOSJAe4IJu6169P0K5NGT9ZzCIREDjCbGPFtoGR0Oc5lf5dLk_AQh4sdErrdut61tlh1srLBFdXZWsUjE5CuMCYFRzF60SiTvv7aVgPFlIFI9tfWz9szZP5GnBohHvJXZZsbAu9zkskG1.jpg', 0.9999998807907104], ['AWU5eFhvvR-GC-K6mG8v17aMNCXxjrKHm_5ykGLgDroSZg6Ld5l0cLcytkcUQOeBYuNMMBcrwmdcnwrnMGn6NqXejh098EoEd0mBTAVt0Ydpudfej6oQkdAP47ELFcKfiKXKIGLPpz7E8O25rwwTm0hge5TFdEYgX5ZfwklpwQsdHdEtsFRX.jpg', 0.9999998807907104], ['AWU5eFiyLyqUgyaIJBi6M9U1HZ-lh1GvMwK7g22_Qrrjj2aUI3ebC57ReOdYD_3d2OwLX3TodoAlCoEXZ_aVvLbeJN0BJa8s2kqokz8aDbANxL5W90jEKNkxTvZ5JxvabPKpyyFOgrfTfv1_Rc7cY54xPWUBqlKRRMosGzBo-h3AlOTYyzgx.jpg', 0.9999998807907104], ['AWU5eFimJOCFAFeks9MqD6UpLk3tdbEkOKLfUJHWmLT-UzfaRXceXUbQkOPtdP2aCkGpuELYCvYrzDROdao5jVuYZbT4Z_vBqP52HtbBJsPuIHa3V0N8WYF_njOw6fTfzu8pe_div6POXqKSd1iN3zQpISFCcGBeLFZGa4QQ48yvFdQFGq5E.jpg', 0.7879027128219604], ['AWU5eFhBu9r8NuU5otYQilBQo7XEl8jFOmro7dklWBqDZVZ_Px8_d26CP8oDuqmJFJXN9eedA5X9vvsmXqS6XaLPvXS8Z-8dKsC7tUrce7aGHKrN1MwUsNVGhldg9BFKrmMFimYLCO_px_m5TbmuDBk3zorC4iN-t-nzPe8zBw6Rf339kfls.jpg', 0.7879027128219604], ['AWU5eFjdAHeVB9os5iSPU911OCjwnq2_m37CxDDpFZdT-gtkJV_LNXLJlkq7mkIqcwp49_ukdg_OgVczBBdfcGuO_fZzqyfu8-7Ch3nQxBbcKjl85q4GYD2Fpt-0gum6Ww8rhD6v4wgCQAFj8roa25FkJfl32aij3qMI83Y0GyGN0kvMU2t-.jpg', 0.7879027128219604], ['AWU5eFivrNJkUAJ2Wjt2mjrclMKx1CiYX5EShLnBj7Q2pUC6TJ0fBZ05VjHhnlzvMD_ageWoFsE1xeInwSJpAQyQqKzpA60aqbJqlFx65avni7d80rii3ATa-0Kr_iJBAUXjW9n-MBo0rUBiOlXomNJZqssvqloln4vfAN-dpFkf57Kdhf4h.jpg', 0.7463231086730957], ['AWU5eFghmflT-TzvuQ4XH638CYZ3ZjzAt-1YsQb5u2JNHyqv4fvj71IdwWG2uDe0KmsZHQiCZtmpGqbMPgTYKt_csOlmf5wHSGSFMj5jqIlmJy3LK86G37-jJ1aj0pJTyIu-YLTxr0rOE7InztC41rHEIs9Aamo8OiR0Q0lFKUZusWzX5MXM.jpg', 0.7463231086730957], ['AWU5eFjcnfXO9DQvoqOWHSLoqOzgw_5mVD08Id3CvcOEnxhxFXNf4qYByxn_eUCg10RM7Wyeg-oiS3IBOV4BV8WIBF6MWueXu7GR5WzffUnJZZEL6lrmXnv5SZ5GZYGr2OSyuLI6DwgSJUX3C-6icBcD-pITI1xTuWMDodVySdBqIv24RHjG.jpg', 0.7463231086730957], ['AWU5eFiVN-s3aq7jYGvK-m3K4swiSvkZYcghXU_icRalXacWlL2WsiSmFyaKBzpcdzfyB0ubw5GbxicG0DQrRXdsDR8hx9YZc48zwBLmwU2373P_0g3eqbSyQBfwKVrRwRCclled1vy4FEePWoYC52HxR09_x4Cop-O9DnykRIQLA5G48vCz.jpg', 0.7080870866775513], ['AWU5eFgI6HanKMbJsNxwyLiT81XYlotIbMJyvIX7yTj26U9BrnApl-XgLZVS2dfl1wTyhG6IQsJY7kaBGdgwZMG68bb1Kz_A_fIFVwnJJ5n7YQ_ihlXAYUe_tJFxulNbkpNItXhtDj8le24DSE1io-7UX95J7bE7nP_KcX3AYANv7Ejy1KO-.jpg', 0.7080870866775513], ['AWU5eFhdNsH1HZv3rA3-VW7-8hlVTnqD5Cx_POihrEIPZk06VzRSDEEwy1hTCgdrN1e3ONgbM03ACu3eG-Esv4Jg811jMnm9Epbo-FWKDyCFH6NwKAJofm7p2FLEmywdNHH8--oWnq7DBOcx_CQS5BX4OlgYykwtWTHwt6OeszeJhAPFiChC.jpg', 0.7080870866775513], ['AWU5eFjeGj6yKA67esg_ajakuJ7CKM8eU-vIkaHnEHMFxoBeOsE4DRPsIi8712pSGNn3CnKeGcZdOHk0wp3ZuHfxrp2Cl70An5jRvYzr4asUs1aaVJ_J7WznuLFcCz_LzTcN4UpAys8zWARYWv7JTOIVbYsQnne-fTv1gK9hmDKIBTngU9Ff.jpg', 0.7075433731079102], ['AWU5eFgj2Ip1zYS6qf-nTA5GJQplYZzqIthFHhKTND304dvUvffCxwXUBX63NyitwFfdSrwHgUu8djEMVedVEopmR8iLTzdxlIOItUOZUU8AsLdJm8kNV81jEXyJmbCbSDdTTgsQs0ke4Gf4MEFlB8woJJzrz8EHaVg7RptJlA5pyGqtKsRE.jpg', 0.6551405191421509], ['AWU5eFiHdhiE1Wd_cJ89qzq2Ac5iNGnBIvhxYUm9s3tSEIq-74pcAxrZNn5jX7ZFRg3EsJC32ouQh1haIlHFaiTHUBQo3OYtEyOdyRfauXfDR6fc4bmk2X7lfx8E3OCtU4ayBC_3pRvBdacjPC9wLw6MCEQBnBPgCtHuQ2qCntKD5xhzUUnN.jpg', 0.6551405191421509], ['AWU5eFgBkNCDwqQWZPZ4W3swkoO5Ubkxh-wqodWKQ0XBR-p0C6U6KMqDFlLiJL-pCQ-GB977o5Sz7HsSIvqcdd0x6ljQv6_nzO8emVQ_5quOUTuMrLAoFiJhEB8bz9MomFVt8e4UkO8pNov_po7DzLX0IJ9fvcoUhHfQTzliHHYQnW4GS47y.jpg', 0.6551405191421509], ['AWU5eFgGXdxXRQrrG6Qqs021gu4W-KWIQRUmCUT85athBD22hLZP5Kb4HiZ7voiSdj_o8MpRnbubcN1rJQe0-7fmjENbCaSmTq7HiFj_17jGKoHfxNZEjzIBso2BYBTCNJuhKaMD3dbE4aHC0dk3xqT_xXSakmXku-79Jq6uyCgrVWEehRTW.jpg', 0.6551405191421509], ['AWU5eFjrrtpg8VMCmJTLo6j0UamTJgFLMaPH2mWaeTMFJT5FBehu-hkRREzt2Ll1Sgy7y-h7uhQzK1BG52HzCYztua0ZXK5KIxC4eEj5v3mOvIhz_LcpXLKKG7mRaczxU7FRNdr7kAcq53DM59-s3rK0F-41f8NBBCGG0o6_qy93DfMUHi00.jpg', 0.6389199495315552], ['AWU5eFi5GVitoZI_GQfLF06DnZoqdsuduJte6Uw7GATvwwBNVpMQD2EjpOXDuslgUgP74SBH9xh49BxdSWObSDXwubD1W66GVvb2tUrS0ChREZiODM5zgiJiv1neXkZ9lOWHoPMtKsaZjhM-wfisbOEIRKTP8to1hXnoEXwzM6yOhMoqEvcr.jpg', 0.6389199495315552], ['AWU5eFjuoxeU9wohBCInLBEDAoc7fxbtNSHJ9M2CKWCzs3CQHLtpUntBVWbN9jwx4ALCIFnsYvhy_3Slk9G2BGln1w46HltYA1mkbuSBOAv4FQar-8B-R4s7p6Mk8hHH8qQ99Te0Kv--W9qBjeu0CvUlKRvwz_eUWViHpqqueDED59-V1DEY.jpg', 0.6389199495315552]]\n"
     ]
    }
   ],
   "source": [
    "from flask import Flask, request, jsonify\n",
    "from similarities import go \n",
    "import os\n",
    "from dotenv import load_dotenv\n",
    "from flask_jwt_extended import JWTManager, jwt_required, get_jwt_identity\n",
    "\n",
    "load_dotenv()\n",
    "\n",
    "# حفظ الملف المرفوع\n",
    "def save_uploaded_file(file):\n",
    "    os.makedirs('images', exist_ok=True)\n",
    "    \n",
    "    file_path = os.path.join('images', file.filename)\n",
    "    file.save(file_path)\n",
    "    return file_path\n",
    "\n",
    "app = Flask(__name__)\n",
    "app.config['JWT_SECRET_KEY'] = os.getenv('SERVER_TOKEN_SECRET')\n",
    "jwt = JWTManager(app)\n",
    "\n",
    "@app.route('/api/models/get-similarities', methods=['POST'])\n",
    "@jwt_required()  # التأكد من وجود رمز مميز صالح\n",
    "def get_similarities():\n",
    "    try:\n",
    "        if 'file' not in request.files:\n",
    "            return jsonify({'error': 'no file field was sent in the request'}), 400\n",
    "\n",
    "        file = request.files['file']\n",
    "\n",
    "        if file.filename == '':\n",
    "            return jsonify({'error': 'file was never specified'}), 400\n",
    "\n",
    "        if file:\n",
    "            file_path = save_uploaded_file(file)\n",
    "            results = go(file_path)\n",
    "            similarities = [[img[0], float(img[1])] for img in results]\n",
    "            print(similarities)\n",
    "            return jsonify({'similarities':similarities}), 200\n",
    "        else:\n",
    "            return jsonify({'error': 'an error occured'}), 500\n",
    "    except Exception as e:\n",
    "        print(str(e))\n",
    "        return jsonify({'error': str(e)}), 500\n",
    "\n",
    "if __name__ == '__main__':\n",
    "    app.run()"
   ]
  },
  {
   "cell_type": "markdown",
   "metadata": {},
   "source": []
  }
 ],
 "metadata": {
  "kernelspec": {
   "display_name": "base",
   "language": "python",
   "name": "python3"
  },
  "language_info": {
   "codemirror_mode": {
    "name": "ipython",
    "version": 3
   },
   "file_extension": ".py",
   "mimetype": "text/x-python",
   "name": "python",
   "nbconvert_exporter": "python",
   "pygments_lexer": "ipython3",
   "version": "3.11.5"
  }
 },
 "nbformat": 4,
 "nbformat_minor": 2
}
