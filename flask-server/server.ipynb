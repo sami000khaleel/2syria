{
 "cells": [
  {
   "cell_type": "code",
   "execution_count": 1,
   "metadata": {},
   "outputs": [
    {
     "name": "stdout",
     "output_type": "stream",
     "text": [
      "1/1 [==============================] - 5s 5s/step\n",
      "1/1 [==============================] - 0s 318ms/step\n",
      "[['AWU5eFhMp2_qiQ0vBa5WSfSVN-q6zkqzUJqUKOsuf0sVXcchLS_LUbd1bXgyuqkbUoA03QC5lO_vRsGSIcPvYs-n9VquHYvPO2RZX8qq8RoelblRD2tqgyv-E7K6VPMrsY7p8WluI7a6RmRWtf8BCoPW2zm19P6zkUkOtBJFV5YBsXxwqaSF.jpg', 0.99999994], ['AWU5eFgruMSYk48A1bAi6QqA-SRivsIgvKjfJPrFO42hv16xmCWAOLPyugtEY2prqecNmoOgT0c8buz1YupZoqfPWWsILf8RpaRoQQTOwcVPIBAiCBWSjnkGrEUV5UgKRBMFy0LkD1dWXAolWZojtKhxHBFyyi999Dqg1lYmPZqMgoiXMiwR.jpg', 0.6988811], ['AWU5eFgaxkEttoX7re7ubyA8KAQyJLutS0ZRcZ9TqT3CVORWNh1ey7P91zB49d0AKUqaOz2p_1ti-VwV4ZBK5_3Ik11JAxTG1aGk1wJqdNPOtjdXWLc-Y4p_075U1hNBOBl7iQZ8goMh504eNlojkH1gSBSqomVPJPMewH1hHnjewDsdlmU-.jpg', 0.68496263], ['AWU5eFg-k5HRiOim9Awyv67NUjEB5FzliaoifnaRgxTsxBDjwRcILSB-QmQ0WSqt5vuJeMRqcf-jZKGwY2CEdA4O-P9O2Vv1B-OZhJ0SiiLyeiKu-AWD_-dgXXqZq_fJ6fyr7beQy7k3tdcvWIvm59tdRCEYK7EXcjoZCMPlqwUgEMFCScnv.jpg', 0.66473424], ['AWU5eFhRYMjAxY1X_uBE3EMe3ugLmpfNb7hfkXTr8fRiVyhZAcOa4j-zQQUjE_ayPxguMexFCQkO5pjA5uEuf7EcMY4vQV8ArDSd3KBeNuzYB2LLx2FSyqloeBcLCBEx913rLXFvdyaGecothnDFjyUvxXUR61F33RFbW7KTxsaUToW-wQCQ.jpg', 0.65545225], ['AWU5eFil27vRrWU_dm5RGSC9oVb8LexGX-iuRbMCvHcBeXJN4hTge0h4l6_VUeeoDEmZEJFV56kgytOOCvt-6ptQCUSiJS2CWJZ7Pe8yAZGJsgFK-MSgbsBuf23409uzocB_UC5mpdYMKXm-WxZvUg5E7TCMPx_nN72SxhS5Ml-VNzk52TZm.jpg', 0.64180064], ['AWU5eFj0juhuu-r5rTDNC4gbjnibl2VzKczferwgVNhLMsCg0GlhhTSb9T7xLgmkT7PkcLhl8dCC32wXUl050Kyjs5EjwDlXIXDcgj3rSZMLx00ZuB2t3C8nEQNnDYoOC7RogI4aVfOyzd2EkM1sBKH9i-YJvmzi3lfWg2ytdRGZPOOYskt-.jpg', 0.6372791], ['AWU5eFj-hif-ujPc5NGUjpjVrcokiUhMco-vFbS_GuzVLSFsRRyF1hAFEtgGV3X_VqPPwEMEVkv-PzpgZD2MTYConNSY9IpSbb-pkAISZf-oLu0QXa0cQDV48IaYtN95Zi_XI1Ml1I8DJw4LNmz4m9v0q8QLKylzykVqrqbESHYGeFr-aPh7.jpg', 0.6317234], ['AWU5eFixYgY1witZ6D_i1ESQ9a6XjaamoLQ3UeQXBkxULypfEaqRf8Z_NrAgNv-InpVpTlNjH0dqiNVQsLgYcZPZpaWTz9E0o7o0Qe-itB0PJOrkamgDn0jvsRXaArNX0-qHH32v-GpvzH3DnVMJdgLgCFiCBdq8kes8r7BMj6rnKAuZNYEN.jpg', 0.6302125], ['AWU5eFjNPGtEy6s3P5uoB7PlBjB2IXX_naLKtRBsAUhhBC88fG52mdfvYLwAZtEihWUPpcxseBI1BC0iTSv-Y4CtGwiuTUzyx5xonC-z8KHDlH41wbWoJF4VVwDN3HVTchaTEj6ivFVi35zIfjK9u5SXsvtJfNOre0MxzAmjkmwbN_KWp8tg.jpg', 0.6197137], ['AWU5eFiMR0z0IiFm--bxdUEz7C4E1-Ee9sGMuYEipp6MX02lPj4GmIiISTNC4buftqMp-u0OX4ppKRyCcW9KAiBWuspfcQDeMafveurnzFtRca2p7m86nm--XH4Ak558-ixE792XEoLw3o0VQOym0d4t0mDbR_BrrxVQFy3KFgmfNg1b9csr.jpg', 0.61785036], ['AWU5eFiaJsrXnf1joVH3Cu8LP-VSV3INjU7vIolNueGwB-iEJN7HdPag02yilrOXq7piR_57wo-hXNXTZ_Ho9LjnlPww7dXp0cZaDyqAFEKvZfwsXsxKXx4BNfkwytPi0eevuBWok5KeOCgdpRacOdNDM-qFUXgRn08SEAaDCW6AVTB_fRZ1.jpg', 0.61534566], ['AWU5eFgvNvz1nArYtmPVELPX5bz4RnhtW18qjvSaKDWNsV5WvUc2MUi-8Uk68u5mIR7k1K_5YHPl_usi1qxgIlpMNTq4fWG6eZvWc6Hjg8GR4KRL6LQT1RsglqxvmfQfY1SRNDd1LwDStxzNAhsr4i8C3ZsuC3whpaYJc79IR5EdQYGuv6o.jpg', 0.61242265], ['AWU5eFh36yKWKlfk1nYZu4vJF_6Do8BxcpOtEOAdlq5EcSEXkC-yRGXI93W5QAA5D9qQOp8yfVvRBXpuCiuQlG3Ct-HTwEMo58rjhaABjT4fVESfWING3GQeQCiSsl91LEeDRJRtq5JmuzQCYCt0-i31c_Lryp_-ZIcE-HWACbZd5C8eniqa.jpg', 0.6120159], ['AWU5eFh-SIPNmtjqZhlKEZYlUrk39gtuHUUDpoq7VI5i9lEsYmBQ2Z219_zD5H4e6bih-PeyVNR2i8w5ah4iaEHETHt0HNUw9NTZR0_x1vVfnEBc577ULkqE2WVdJa3bc-8OwRKIZb2eYGjVKIY2xr0ewNGMT56fLCnICI7Sdhck43bs2Sw.jpg', 0.6089296], ['AWU5eFikD2XEXmJLWMhsQ1y3Yx6Ez0Ux8ExnVpdcOo0T7yJsWXgO6-fwNP8h-phcE5lJvIP8NeCIcJYdKGnnWbI1qfawvLnj59CmzmvuNvmrs-YB4zdJS1-IgvYfjQKD1nMWxWFeKytPkxnmMS-kA9OeoayZfG46ko8CyANmwEv8CoIRwv-s.jpg', 0.60890687], ['AWU5eFjapgObyycXCo_aTYsWpgC9PiUKQY0VV3IEBZGUC1JUdbZScFAz9aN6B9WY2zW3NvkbUKotr2RmvrEoeEehI21XLJUh84SiHu8Bm6QtQuyIe1lcXuDuMo9XT9J6oeo7PQZEOoiHoD9tT_hzq4V7Ymz5kWBOBGI-2tazPr1A1TMNPNo4.jpg', 0.60625786], ['AWU5eFirKpff9N1LTZSyHoxidgHOn1W_0DJREH7S9AiERDCl9ptvlybOlbmTrHHxkW0VRM5VeDfStz3CIwUzoKSYBvzIOzBauICf-omXBlsjWPfCKWjsSGtwcuw8-wA3se4jsdgPDbicdWP383Pbno83FvVipc7S6U_ovXl2VbQiA31V0MKu.jpg', 0.60527635], ['AWU5eFg_8frVZwDkmWJF_xfHlJ_IsEPpWnczxU6i2n5cR4t_dhv7ZWfkZz2nIJw7yQ5hsdeofHXfvgVhmF0L5tIgfyAZb-kRrMtbVmjQ35a3c9setGoUoKWbCqMqqkxEz5B1a6QVA5btpXryHvBf7bG4nJ2NexnxPsX1y5m4vwhjTfI5e6Pp.jpg', 0.60412014], ['AWU5eFj4IYh-cvEoJLQNVr20kCN6c6pLFrUHo8ZthW2FYLuOzvkYQ2aaZOHVsrrYlWtCUJoxHU6KCZk3jg7IKJjVBxbHKr9Yp9Mxorq3ue32Wxh_5PbK13PLkHW_ife0XfsNu25uqYrpS0Pqe3sP6MXiQiWjObZHtuf_Qf8a5cGFBvTqnWPs.jpg', 0.60259104]]\n",
      " * Serving Flask app '__main__'\n",
      " * Debug mode: off\n"
     ]
    },
    {
     "name": "stderr",
     "output_type": "stream",
     "text": [
      "WARNING: This is a development server. Do not use it in a production deployment. Use a production WSGI server instead.\n",
      " * Running on http://127.0.0.1:5000\n",
      "Press CTRL+C to quit\n"
     ]
    },
    {
     "name": "stdout",
     "output_type": "stream",
     "text": [
      "1/1 [==============================] - 0s 273ms/step\n"
     ]
    },
    {
     "name": "stderr",
     "output_type": "stream",
     "text": [
      "127.0.0.1 - - [09/May/2024 13:13:53] \"POST /api/models/get-similarities HTTP/1.1\" 200 -\n"
     ]
    },
    {
     "name": "stdout",
     "output_type": "stream",
     "text": [
      "[['AWU5eFh-xlLqy8YOPsXxYYfnMd1dkqceyhj5kiFFPX0Wxm2KB-emSZaAX3Fp9uW6iyDdF9cen_Cq4r6mveGBcazBUoP1JDe9VN6nhSXVbI9L6FvZOtMEDzefK8fj6gGJjJgj3Sx2YlvwdSyO9EAO85NHzyTMIPw7LD-J6pGhtHBP4sSj32bT.jpg', 1.0], ['AWU5eFjPz2eFvYRfBOz-kQ1q6Q_ggKNxPjBFGZag6_V49Pboe3GsKocdvnoZvHlqqDW6v-A0kqyyQZygkDnuk9LukH7nfV6XT7-nzByO9rh-kRlFaknD_UroXYoIax-fKPFXlZ0PLR5PUFqWD8qStlyn2vvQylKyVEQRyFExOBIORwClYLQz.jpg', 0.7232046], ['AWU5eFjYF39Djt4-JLHxQa07K99mUlQVyYziVlCCiZFPzIrGRkW_EK55l8ExQnXW5GyR8S__uYDmh3uiPp-q5FktbuEdPwNgneZVKAHmfcMz9R2GbgO5YK_pj6gLxn4lOTwdOJU2DUVutVf9n_OY-a5kfoUKySjVuqw81ZEbQ7s813w7ycPC.jpg', 0.71832395], ['AWU5eFiQpx1O5UvaJM0tydkr44YDdXFXsFX0Qo7yB4mkWpL9X3PyRivHmrynctIa6h3VwRCPAZtmbSqjZvyQqpdDU6pA8-GpH1egptBltoXKSmXLtSS2F2EIalLBz-uP0kSqTK6OkqiVLwhac4SUe8oGvNKGpuzlI-lIOTlyMd0Orw5l4g__.jpg', 0.6642949], ['AWU5eFgx5gsvsdb6zYWYg9w4PFwpnQZ2KiYCGcPlzwRXAPCLqYAo84HRLA-g6BjWJ4UIwhGCntbv-zYXod-iGc-x9iCwvR1Nshye4i1uV3QhpwoJD1cd1APWuLm1JrD9nyL-OAUEG57MRXxTLEw4DAUigM3v6v2IuNyqunlswas0x0heK1jJ.jpg', 0.6548975], ['AWU5eFi_YlSFkqYTvwiz1iFGslt1MR1YFXeyO94TXTvBzZLMU7lbz8ztttYB-8X9c8rNAnSV82eXSMJ6OppjbsJE1QSM4arRHy1hGu00LOUxJKhBjXBMWOMzEaf1JWYntzw8FbRZ13jwYR414EQ50QCVhrSXCUGId3-INnBndyz0HjaLcxVf.jpg', 0.646137], ['AWU5eFh36yKWKlfk1nYZu4vJF_6Do8BxcpOtEOAdlq5EcSEXkC-yRGXI93W5QAA5D9qQOp8yfVvRBXpuCiuQlG3Ct-HTwEMo58rjhaABjT4fVESfWING3GQeQCiSsl91LEeDRJRtq5JmuzQCYCt0-i31c_Lryp_-ZIcE-HWACbZd5C8eniqa.jpg', 0.6437663], ['AWU5eFiX7RmH04fGSrqE0IPp7NPEYT0YqYDm6U1S03tGZqknY04Icqmx8CzexApXOLflXsw10k4mRsVq-v_v_GYZ-V61KUlcg9mp3lFRFTLptE2Ffi4nbQ8pbYJafiB3_WzdOT_yczhAiKQrIlGJU_rIh0VjhKy1lF800clSL1eErkWE-3Ll.jpg', 0.6271957], ['AWU5eFiCrUHoC9TBI1UrGnJszvX3EZCWGK9QWW5bYALPNJs6WOzp154AO2GzXINUAme-bz_UsSgqVbDtWW201lG3KHjrj_RQcJ1L2jcVJ3rQMerQN7JIe66UcHN2qsJ2PFIwj8r9e962nfh03Ef1s2OP1LNmu35CUqbzzvyIlGh2tiQNmACI.jpg', 0.6039729]]\n",
      "[['AWU5eFh-xlLqy8YOPsXxYYfnMd1dkqceyhj5kiFFPX0Wxm2KB-emSZaAX3Fp9uW6iyDdF9cen_Cq4r6mveGBcazBUoP1JDe9VN6nhSXVbI9L6FvZOtMEDzefK8fj6gGJjJgj3Sx2YlvwdSyO9EAO85NHzyTMIPw7LD-J6pGhtHBP4sSj32bT.jpg', 1.0], ['AWU5eFjPz2eFvYRfBOz-kQ1q6Q_ggKNxPjBFGZag6_V49Pboe3GsKocdvnoZvHlqqDW6v-A0kqyyQZygkDnuk9LukH7nfV6XT7-nzByO9rh-kRlFaknD_UroXYoIax-fKPFXlZ0PLR5PUFqWD8qStlyn2vvQylKyVEQRyFExOBIORwClYLQz.jpg', 0.7232046127319336], ['AWU5eFjYF39Djt4-JLHxQa07K99mUlQVyYziVlCCiZFPzIrGRkW_EK55l8ExQnXW5GyR8S__uYDmh3uiPp-q5FktbuEdPwNgneZVKAHmfcMz9R2GbgO5YK_pj6gLxn4lOTwdOJU2DUVutVf9n_OY-a5kfoUKySjVuqw81ZEbQ7s813w7ycPC.jpg', 0.7183239459991455], ['AWU5eFiQpx1O5UvaJM0tydkr44YDdXFXsFX0Qo7yB4mkWpL9X3PyRivHmrynctIa6h3VwRCPAZtmbSqjZvyQqpdDU6pA8-GpH1egptBltoXKSmXLtSS2F2EIalLBz-uP0kSqTK6OkqiVLwhac4SUe8oGvNKGpuzlI-lIOTlyMd0Orw5l4g__.jpg', 0.6642948985099792], ['AWU5eFgx5gsvsdb6zYWYg9w4PFwpnQZ2KiYCGcPlzwRXAPCLqYAo84HRLA-g6BjWJ4UIwhGCntbv-zYXod-iGc-x9iCwvR1Nshye4i1uV3QhpwoJD1cd1APWuLm1JrD9nyL-OAUEG57MRXxTLEw4DAUigM3v6v2IuNyqunlswas0x0heK1jJ.jpg', 0.6548975110054016], ['AWU5eFi_YlSFkqYTvwiz1iFGslt1MR1YFXeyO94TXTvBzZLMU7lbz8ztttYB-8X9c8rNAnSV82eXSMJ6OppjbsJE1QSM4arRHy1hGu00LOUxJKhBjXBMWOMzEaf1JWYntzw8FbRZ13jwYR414EQ50QCVhrSXCUGId3-INnBndyz0HjaLcxVf.jpg', 0.646136999130249], ['AWU5eFh36yKWKlfk1nYZu4vJF_6Do8BxcpOtEOAdlq5EcSEXkC-yRGXI93W5QAA5D9qQOp8yfVvRBXpuCiuQlG3Ct-HTwEMo58rjhaABjT4fVESfWING3GQeQCiSsl91LEeDRJRtq5JmuzQCYCt0-i31c_Lryp_-ZIcE-HWACbZd5C8eniqa.jpg', 0.6437662839889526], ['AWU5eFiX7RmH04fGSrqE0IPp7NPEYT0YqYDm6U1S03tGZqknY04Icqmx8CzexApXOLflXsw10k4mRsVq-v_v_GYZ-V61KUlcg9mp3lFRFTLptE2Ffi4nbQ8pbYJafiB3_WzdOT_yczhAiKQrIlGJU_rIh0VjhKy1lF800clSL1eErkWE-3Ll.jpg', 0.6271957159042358], ['AWU5eFiCrUHoC9TBI1UrGnJszvX3EZCWGK9QWW5bYALPNJs6WOzp154AO2GzXINUAme-bz_UsSgqVbDtWW201lG3KHjrj_RQcJ1L2jcVJ3rQMerQN7JIe66UcHN2qsJ2PFIwj8r9e962nfh03Ef1s2OP1LNmu35CUqbzzvyIlGh2tiQNmACI.jpg', 0.6039729118347168]]\n"
     ]
    }
   ],
   "source": [
    "from flask import Flask, request, jsonify\n",
    "from similarities import go \n",
    "import os\n",
    "from dotenv import load_dotenv\n",
    "from flask_jwt_extended import JWTManager, jwt_required, get_jwt_identity\n",
    "\n",
    "load_dotenv()\n",
    "\n",
    "# حفظ الملف المرفوع\n",
    "def save_uploaded_file(file):\n",
    "    os.makedirs('images', exist_ok=True)\n",
    "    \n",
    "    file_path = os.path.join('images', file.filename)\n",
    "    file.save(file_path)\n",
    "    return file_path\n",
    "\n",
    "app = Flask(__name__)\n",
    "app.config['JWT_SECRET_KEY'] = os.getenv('SERVER_TOKEN_SECRET')\n",
    "jwt = JWTManager(app)\n",
    "\n",
    "@app.route('/api/models/get-similarities', methods=['POST'])\n",
    "@jwt_required()  # التأكد من وجود رمز مميز صالح\n",
    "def get_similarities():\n",
    "    try:\n",
    "        if 'file' not in request.files:\n",
    "            return jsonify({'error': 'no file field was sent in the request'}), 400\n",
    "\n",
    "        file = request.files['file']\n",
    "\n",
    "        if file.filename == '':\n",
    "            return jsonify({'error': 'file was never specified'}), 400\n",
    "\n",
    "        if file:\n",
    "            file_path = save_uploaded_file(file)\n",
    "            results = go(file_path)\n",
    "            similarities = [[img[0], float(img[1])] for img in results]\n",
    "            print(similarities)\n",
    "            return jsonify({'similarities':similarities}), 200\n",
    "        else:\n",
    "            return jsonify({'error': 'an error occured'}), 500\n",
    "    except Exception as e:\n",
    "        print(str(e))\n",
    "        return jsonify({'error': str(e)}), 500\n",
    "\n",
    "if __name__ == '__main__':\n",
    "    app.run()"
   ]
  },
  {
   "cell_type": "markdown",
   "metadata": {},
   "source": []
  }
 ],
 "metadata": {
  "kernelspec": {
   "display_name": "base",
   "language": "python",
   "name": "python3"
  },
  "language_info": {
   "codemirror_mode": {
    "name": "ipython",
    "version": 3
   },
   "file_extension": ".py",
   "mimetype": "text/x-python",
   "name": "python",
   "nbconvert_exporter": "python",
   "pygments_lexer": "ipython3",
   "version": "3.11.5"
  }
 },
 "nbformat": 4,
 "nbformat_minor": 2
}
